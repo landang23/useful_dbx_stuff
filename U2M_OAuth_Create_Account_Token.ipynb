{
 "cells": [
  {
   "cell_type": "code",
   "execution_count": 0,
   "metadata": {
    "application/vnd.databricks.v1+cell": {
     "cellMetadata": {
      "byteLimit": 2048000,
      "rowLimit": 10000
     },
     "inputWidgets": {},
     "nuid": "2ecdcfac-d0be-4555-828f-129e30ffc45c",
     "showTitle": false,
     "title": ""
    }
   },
   "outputs": [],
   "source": [
    "dbutils.widgets.removeAll()"
   ]
  },
  {
   "cell_type": "code",
   "execution_count": 0,
   "metadata": {
    "application/vnd.databricks.v1+cell": {
     "cellMetadata": {
      "byteLimit": 2048000,
      "rowLimit": 10000
     },
     "inputWidgets": {},
     "nuid": "01ef1024-2d01-4581-822c-ade94d007306",
     "showTitle": true,
     "title": "Widgets Setup - Do not change"
    }
   },
   "outputs": [],
   "source": [
    "# Widgets Setup\n",
    "\n",
    "# Account ID -- Found in Account Console\n",
    "dbutils.widgets.text(\n",
    "  name='account_id',\n",
    "  defaultValue='',\n",
    "  label='Account ID'\n",
    ")\n",
    "\n",
    "# Which cloud you're on\n",
    "dbutils.widgets.text(\n",
    "  name='cloud',\n",
    "  defaultValue='AWS/Azure/GCP',\n",
    "  label='Cloud'\n",
    ")\n",
    "\n",
    "# State Keyword - Used for security -- ie. ILoveDBX\n",
    "dbutils.widgets.text(\n",
    "  name='state',\n",
    "  defaultValue='ILoveDBX',\n",
    "  label='State Keyword'\n",
    ")"
   ]
  },
  {
   "cell_type": "code",
   "execution_count": 0,
   "metadata": {
    "application/vnd.databricks.v1+cell": {
     "cellMetadata": {
      "byteLimit": 2048000,
      "rowLimit": 10000
     },
     "inputWidgets": {},
     "nuid": "9f93d749-5c35-44ca-b32a-c7b1ff4c46a0",
     "showTitle": true,
     "title": "Imports & Setup"
    }
   },
   "outputs": [],
   "source": [
    "# Imports\n",
    "import uuid\n",
    "import hashlib\n",
    "import base64\n",
    "import requests\n",
    "import json\n",
    "\n",
    "# Setup\n",
    "account_id = dbutils.widgets.get('account_id')\n",
    "\n",
    "cloud = dbutils.widgets.get('cloud')\n",
    "\n",
    "state = dbutils.widgets.get(\"state\")"
   ]
  },
  {
   "cell_type": "code",
   "execution_count": 0,
   "metadata": {
    "application/vnd.databricks.v1+cell": {
     "cellMetadata": {
      "byteLimit": 2048000,
      "rowLimit": 10000
     },
     "inputWidgets": {},
     "nuid": "beb054e8-baaf-42ba-adda-3409171e9b2f",
     "showTitle": false,
     "title": ""
    }
   },
   "outputs": [],
   "source": [
    "# Change the base URL depending on the cloud\n",
    "if cloud.lower() == \"aws\":\n",
    "  cloud_url = \"https://accounts.cloud.databricks.com\"\n",
    "elif cloud.lower() == \"azure\":\n",
    "  cloud_url = \"https://accounts.azuredatabricks.net\"\n",
    "elif cloud.lower() == \"gcp\":\n",
    "  cloud_url = \"https://accounts.gcp.databricks.com\"\n",
    "else:\n",
    "  pass"
   ]
  },
  {
   "cell_type": "code",
   "execution_count": 0,
   "metadata": {
    "application/vnd.databricks.v1+cell": {
     "cellMetadata": {
      "byteLimit": 2048000,
      "rowLimit": 10000
     },
     "inputWidgets": {},
     "nuid": "fd033476-1d72-4c0f-83f1-a2f990a4a93e",
     "showTitle": true,
     "title": "Generate Codes"
    }
   },
   "outputs": [],
   "source": [
    "def generate_codes():\n",
    "  \"\"\"\n",
    "  Generate a code verifier and code challenge for the authorization code flow.\n",
    "  \"\"\"\n",
    "\n",
    "  # Generate a UUID.\n",
    "  uuid1 = uuid.uuid4()\n",
    "\n",
    "  # Convert the UUID to a string.\n",
    "  uuid_str1 = str(uuid1).upper()\n",
    "\n",
    "  # Create the code verifier.\n",
    "  code_verifier = uuid_str1 + \"-\" + uuid_str1\n",
    "\n",
    "  # Create the code challenge based on the code verifier.\n",
    "  code_challenge = base64.urlsafe_b64encode(hashlib.sha256(code_verifier.encode()).digest()).decode('utf-8')\n",
    "\n",
    "  # Remove all padding from the code challenge.\n",
    "  code_challenge = code_challenge.replace('=', '')\n",
    "\n",
    "  return code_verifier, code_challenge\n",
    "\n",
    "\n",
    "# Get & print codes\n",
    "code_verifier, code_challenge = generate_codes()\n",
    "\n",
    "print(f\"code_verifier: {code_verifier}\")\n",
    "print(f\"code_challenge: {code_challenge}\")\n",
    "\n",
    "# Important: Open the below URL in a web browser, then copy the Authorization Code in the URL \n",
    "# For example, if the address is http://localhost:8020/?code=dcod...7fe6&state=<state>, the Authorization Code would be dcod...7fe6\n",
    "print(f\"{cloud_url}/oidc/accounts/{account_id}/v1/authorize?client_id=databricks-cli&redirect_url=localhost:8020&response_type=code&state={state}&code_challenge={code_challenge}&code_challenge_method=S256&scope=all-apis+offline_access\"  )"
   ]
  },
  {
   "cell_type": "code",
   "execution_count": 0,
   "metadata": {
    "application/vnd.databricks.v1+cell": {
     "cellMetadata": {
      "byteLimit": 2048000,
      "rowLimit": 10000
     },
     "inputWidgets": {},
     "nuid": "f0e265d5-ff44-4f11-b514-e7164d63da4b",
     "showTitle": false,
     "title": ""
    }
   },
   "outputs": [],
   "source": [
    "\n",
    "authorization_code = \"\"  # Paste Authorization Code here\n",
    "\n",
    "# Submit call to the Databricks Account API to create an access token\n",
    "url = f\"{cloud_url}/oidc/accounts/{account_id}/v1/token\"\n",
    "data = {\n",
    "    \"client_id\": \"databricks-cli\",\n",
    "    \"grant_type\": \"authorization_code\",\n",
    "    \"scope\": \"all-apis offline_access\",\n",
    "    \"redirect_uri\": \"http://localhost:8020\",\n",
    "    \"code_verifier\": code_verifier,\n",
    "    \"code\": authorization_code\n",
    "}\n",
    "\n",
    "response = requests.post(url, data=data)\n",
    "\n",
    "# Parse out response\n",
    "print(response.status_code)\n",
    "response_json = response.json()\n",
    "print(response_json)"
   ]
  },
  {
   "cell_type": "code",
   "execution_count": 0,
   "metadata": {
    "application/vnd.databricks.v1+cell": {
     "cellMetadata": {
      "byteLimit": 2048000,
      "rowLimit": 10000
     },
     "inputWidgets": {},
     "nuid": "3d0fc57c-056a-42df-880d-9a4efd38ccb1",
     "showTitle": false,
     "title": ""
    }
   },
   "outputs": [],
   "source": [
    "# Parse out response\n",
    "account_access_token = response_json['access_token']\n",
    "print(account_access_token)"
   ]
  },
  {
   "cell_type": "code",
   "execution_count": 0,
   "metadata": {
    "application/vnd.databricks.v1+cell": {
     "cellMetadata": {
      "byteLimit": 2048000,
      "rowLimit": 10000
     },
     "inputWidgets": {},
     "nuid": "e2f2b8e6-b3a5-4294-b401-ef9666fe5763",
     "showTitle": false,
     "title": ""
    }
   },
   "outputs": [],
   "source": [
    "# Example of how to use the AccountClient to list workspaces in a Databricks Account\n",
    "\n",
    "from databricks.sdk import AccountClient\n",
    "\n",
    "client = AccountClient(\n",
    "    token=account_access_token,\n",
    "    account_id=account_id,\n",
    "    host=cloud_url\n",
    ")\n",
    " \n",
    "for w in client.workspaces.list():\n",
    "    print(w.workspace_id, w.workspace_name)"
   ]
  },
  {
   "cell_type": "code",
   "execution_count": 0,
   "metadata": {
    "application/vnd.databricks.v1+cell": {
     "cellMetadata": {},
     "inputWidgets": {},
     "nuid": "1c406c94-a975-4428-9326-fb247e1aa5f4",
     "showTitle": false,
     "title": ""
    }
   },
   "outputs": [],
   "source": []
  }
 ],
 "metadata": {
  "application/vnd.databricks.v1+notebook": {
   "dashboards": [],
   "environmentMetadata": {
    "base_environment": "",
    "client": "1"
   },
   "language": "python",
   "notebookMetadata": {
    "pythonIndentUnit": 2
   },
   "notebookName": "U2M_OAuth_Create_Account_Token",
   "widgets": {
    "account_id": {
     "currentValue": "",
     "nuid": "c99ea963-d225-4bf5-adaa-1239dfcaa0af",
     "typedWidgetInfo": {
      "autoCreated": false,
      "defaultValue": "",
      "label": "Account ID",
      "name": "account_id",
      "options": {
       "widgetDisplayType": "Text",
       "validationRegex": null
      },
      "parameterDataType": "String"
     },
     "widgetInfo": {
      "widgetType": "text",
      "defaultValue": "",
      "label": "Account ID",
      "name": "account_id",
      "options": {
       "widgetType": "text",
       "autoCreated": false,
       "validationRegex": null
      }
     }
    },
    "cloud": {
     "currentValue": "AWS/Azure/GCP",
     "nuid": "9edecc1a-0cdf-4c38-a1c0-eb9456c9848e",
     "typedWidgetInfo": {
      "autoCreated": false,
      "defaultValue": "AWS/Azure/GCP",
      "label": "Cloud",
      "name": "cloud",
      "options": {
       "widgetDisplayType": "Text",
       "validationRegex": null
      },
      "parameterDataType": "String"
     },
     "widgetInfo": {
      "widgetType": "text",
      "defaultValue": "AWS/Azure/GCP",
      "label": "Cloud",
      "name": "cloud",
      "options": {
       "widgetType": "text",
       "autoCreated": null,
       "validationRegex": null
      }
     }
    },
    "state": {
     "currentValue": "ILoveDBX",
     "nuid": "867f70fe-7bdf-4860-951f-5a6f753bd4a3",
     "typedWidgetInfo": {
      "autoCreated": false,
      "defaultValue": "ILoveDBX",
      "label": "State Keyword",
      "name": "state",
      "options": {
       "widgetDisplayType": "Text",
       "validationRegex": null
      },
      "parameterDataType": "String"
     },
     "widgetInfo": {
      "widgetType": "text",
      "defaultValue": "ILoveDBX",
      "label": "State Keyword",
      "name": "state",
      "options": {
       "widgetType": "text",
       "autoCreated": null,
       "validationRegex": null
      }
     }
    }
   }
  }
 },
 "nbformat": 4,
 "nbformat_minor": 0
}
